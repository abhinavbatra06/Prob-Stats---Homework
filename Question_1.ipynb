{
 "cells": [
  {
   "cell_type": "code",
   "execution_count": 1,
   "metadata": {},
   "outputs": [],
   "source": [
    "import pandas as pd\n",
    "import numpy as np\n",
    "import matplotlib.pyplot as plt\n",
    "import seaborn as sns\n",
    "import scipy.stats as stats"
   ]
  },
  {
   "cell_type": "markdown",
   "metadata": {},
   "source": [
    "Consider three random variables : x_tilda , y_tilda  , z_tilda \n",
    "\n",
    "a_tilda , b_tilda , c_tilda are 3 random variables generated from respective normal dist"
   ]
  },
  {
   "cell_type": "code",
   "execution_count": 44,
   "metadata": {},
   "outputs": [],
   "source": [
    "\n",
    "# generate error 1 \n",
    "\n",
    "a_tilda = np.random.normal(0, 5, 1000)\n",
    "b_tilda = np.random.normal(0, 2, 1000)\n",
    "c_tilda = np.random.normal(0, 3, 1000)\n",
    "# generate x values\n",
    "x_tilda = a_tilda + c_tilda\n",
    "#x_tilda = np.linspace(0, 100, 50)\n",
    "\n",
    "# generate y values\n",
    "y_tilda = a_tilda + b_tilda\n",
    "\n",
    "# generate z values\n",
    "z_tilda = b_tilda - c_tilda\n",
    "\n"
   ]
  },
  {
   "cell_type": "code",
   "execution_count": null,
   "metadata": {},
   "outputs": [
    {
     "name": "stdout",
     "output_type": "stream",
     "text": [
      "Correlation between x_tilda and y_tilda:  0.7946923692449642\n",
      "Correlation between y_tilda and z_tilda:  0.19625827213546884\n",
      "Correlation between x_tilda and z_tilda:  -0.4392424032790581\n",
      "Correlation matrix:\n",
      "           x_tilda   y_tilda   z_tilda\n",
      "x_tilda  1.000000  0.794692 -0.439242\n",
      "y_tilda  0.794692  1.000000  0.196258\n",
      "z_tilda -0.439242  0.196258  1.000000\n"
     ]
    }
   ],
   "source": [
    "print(\"Correlation between x_tilda and y_tilda: \", np.corrcoef(x_tilda, y_tilda)[0, 1])\n",
    "print(\"Correlation between y_tilda and z_tilda: \", np.corrcoef(y_tilda, z_tilda)[0, 1])\n",
    "print(\"Correlation between x_tilda and z_tilda: \", np.corrcoef(x_tilda, z_tilda)[0, 1])\n",
    "\n",
    "# Create a DataFrame with the three variables\n",
    "data = {'x_tilda': x_tilda, 'y_tilda': y_tilda, 'z_tilda': z_tilda}\n",
    "df_tilda = pd.DataFrame(data)\n",
    "\n",
    "# Calculate the correlation matrix\n",
    "correlation_matrix = df_tilda.corr()\n",
    "print(\"Correlation matrix:\\n\", correlation_matrix)"
   ]
  }
 ],
 "metadata": {
  "kernelspec": {
   "display_name": "Python 3",
   "language": "python",
   "name": "python3"
  },
  "language_info": {
   "codemirror_mode": {
    "name": "ipython",
    "version": 3
   },
   "file_extension": ".py",
   "mimetype": "text/x-python",
   "name": "python",
   "nbconvert_exporter": "python",
   "pygments_lexer": "ipython3",
   "version": "3.13.1"
  }
 },
 "nbformat": 4,
 "nbformat_minor": 2
}
