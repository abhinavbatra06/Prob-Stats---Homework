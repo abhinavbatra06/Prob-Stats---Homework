{
 "cells": [
  {
   "cell_type": "code",
   "execution_count": 2,
   "metadata": {},
   "outputs": [],
   "source": [
    "import pandas as pd\n",
    "import numpy as np\n",
    "import matplotlib.pyplot as plt\n",
    "import seaborn as sns\n",
    "import scipy.stats as stats"
   ]
  },
  {
   "cell_type": "markdown",
   "metadata": {},
   "source": [
    "Consider three random variables : x_tilda , y_tilda  , z_tilda \n",
    "\n",
    "a_tilda , b_tilda , c_tilda are 3 random variables generated from respective normal dist"
   ]
  },
  {
   "cell_type": "code",
   "execution_count": 3,
   "metadata": {},
   "outputs": [],
   "source": [
    "\n",
    "# generate error 1 \n",
    "\n",
    "a_tilda = np.random.normal(0, 5, 1000)\n",
    "b_tilda = np.random.normal(0, 2, 1000)\n",
    "c_tilda = np.random.normal(0, 3, 1000)\n",
    "# generate x values\n",
    "x_tilda = a_tilda + c_tilda\n",
    "#x_tilda = np.linspace(0, 100, 50)\n",
    "\n",
    "# generate y values\n",
    "y_tilda = a_tilda + b_tilda\n",
    "\n",
    "# generate z values\n",
    "z_tilda = b_tilda - c_tilda\n",
    "\n"
   ]
  },
  {
   "cell_type": "code",
   "execution_count": 4,
   "metadata": {},
   "outputs": [
    {
     "name": "stdout",
     "output_type": "stream",
     "text": [
      "Correlation between x_tilda and y_tilda:  0.7902049478274823\n",
      "Correlation between y_tilda and z_tilda:  0.22674441567406625\n",
      "Correlation between x_tilda and z_tilda:  -0.4177061936219336\n",
      "\n",
      "Correlation matrix:\n",
      "           x_tilda   y_tilda   z_tilda\n",
      "x_tilda  1.000000  0.790205 -0.417706\n",
      "y_tilda  0.790205  1.000000  0.226744\n",
      "z_tilda -0.417706  0.226744  1.000000\n"
     ]
    }
   ],
   "source": [
    "print(\"Correlation between x_tilda and y_tilda: \", np.corrcoef(x_tilda, y_tilda)[0, 1])\n",
    "print(\"Correlation between y_tilda and z_tilda: \", np.corrcoef(y_tilda, z_tilda)[0, 1])\n",
    "print(\"Correlation between x_tilda and z_tilda: \", np.corrcoef(x_tilda, z_tilda)[0, 1])\n",
    "\n",
    "# Create a DataFrame with the three variables\n",
    "data = {'x_tilda': x_tilda, 'y_tilda': y_tilda, 'z_tilda': z_tilda}\n",
    "df_tilda = pd.DataFrame(data)\n",
    "\n",
    "# Calculate the correlation matrix\n",
    "correlation_matrix = df_tilda.corr()\n",
    "print(\"\\nCorrelation matrix:\\n\", correlation_matrix)"
   ]
  }
 ],
 "metadata": {
  "kernelspec": {
   "display_name": "Python 3",
   "language": "python",
   "name": "python3"
  },
  "language_info": {
   "codemirror_mode": {
    "name": "ipython",
    "version": 3
   },
   "file_extension": ".py",
   "mimetype": "text/x-python",
   "name": "python",
   "nbconvert_exporter": "python",
   "pygments_lexer": "ipython3",
   "version": "3.13.1"
  }
 },
 "nbformat": 4,
 "nbformat_minor": 2
}
